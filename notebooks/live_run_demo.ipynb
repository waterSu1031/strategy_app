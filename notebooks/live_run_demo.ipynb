{
 "cells": [
  {
   "cell_type": "code",
   "execution_count": null,
   "id": "initial_id",
   "metadata": {
    "collapsed": true
   },
   "outputs": [],
   "source": [
    ""
   ]
  },
  {
   "metadata": {},
   "cell_type": "code",
   "outputs": [],
   "execution_count": null,
   "source": [
    "import time\n",
    "import pandas as pd\n",
    "from data.loader import load_price_data\n",
    "from data.feed_source import FeedSource\n",
    "from strategies.example_strategy import ExampleStrategy\n",
    "from signal.generator import SignalGenerator\n",
    "from order_execution.mock_broker import MockBroker\n",
    "from order_execution.order_manager import OrderManager\n",
    "from utils.reporter import generate_report\n",
    "\n",
    "symbol = \"AAPL\"\n",
    "start = \"2023-01-01\"\n",
    "end = \"2023-06-01\"\n",
    "\n",
    "feed = FeedSource(symbol, start=start, end=end)\n",
    "feed.load()\n",
    "\n",
    "broker = MockBroker()\n",
    "order_manager = OrderManager(broker)\n",
    "\n",
    "# 전체 데이터를 기반으로 시그널 먼저 생성\n",
    "df = feed.data.copy()\n",
    "strategy = ExampleStrategy(df)\n",
    "strategy.generate_signals()\n",
    "\n",
    "signal_generator = SignalGenerator()\n",
    "\n",
    "# 실시간처럼 시뮬레이션\n",
    "while feed.has_next():\n",
    "    bar = feed.next()\n",
    "    timestamp = bar.name\n",
    "\n",
    "    entry, exit = signal_generator.extract_point(\n",
    "        timestamp, strategy.entries, strategy.exits\n",
    "    )\n",
    "\n",
    "    if entry:\n",
    "        print(f\"[{timestamp}] 🟢 매수 시그널 → 주문 실행\")\n",
    "        order_manager.handle_signal(symbol, \"buy\", quantity=10)\n",
    "\n",
    "    elif exit:\n",
    "        print(f\"[{timestamp}] 🔴 매도 시그널 → 주문 실행\")\n",
    "        order_manager.handle_signal(symbol, \"sell\", quantity=10)\n",
    "\n",
    "    # sleep은 실제 상황에서는 0.1초~1초 단위로 맞춤\n",
    "    time.sleep(0.01)\n",
    "\n",
    "# 포지션/잔고/체결 결과 요약\n",
    "report = generate_report(broker)\n",
    "\n",
    "print(\"\\n📊 최종 리포트:\")\n",
    "for k, v in report.items():\n",
    "    print(f\"{k}: {v}\")\n"
   ],
   "id": "fcbdfb16f94f7f13"
  }
 ],
 "metadata": {
  "kernelspec": {
   "display_name": "Python 3",
   "language": "python",
   "name": "python3"
  },
  "language_info": {
   "codemirror_mode": {
    "name": "ipython",
    "version": 2
   },
   "file_extension": ".py",
   "mimetype": "text/x-python",
   "name": "python",
   "nbconvert_exporter": "python",
   "pygments_lexer": "ipython2",
   "version": "2.7.6"
  }
 },
 "nbformat": 4,
 "nbformat_minor": 5
}
